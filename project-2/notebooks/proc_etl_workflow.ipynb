{
 "cells": [
  {
   "cell_type": "markdown",
   "id": "dcbb5790-81a8-4db3-970f-106c166ae9b0",
   "metadata": {},
   "source": [
    "# 1. Requirements"
   ]
  },
  {
   "cell_type": "code",
   "execution_count": 1,
   "id": "e0f5b9c3-f559-4e01-bc02-7df4c7090ec8",
   "metadata": {},
   "outputs": [
    {
     "name": "stdout",
     "output_type": "stream",
     "text": [
      "Requirement already satisfied: Unidecode in /opt/conda/lib/python3.10/site-packages (1.3.4)\n",
      "Note: you may need to restart the kernel to use updated packages.\n"
     ]
    }
   ],
   "source": [
    "%pip install Unidecode"
   ]
  },
  {
   "cell_type": "code",
   "execution_count": 2,
   "id": "83dae8da-62dc-4759-979b-3b2439ca93bc",
   "metadata": {},
   "outputs": [],
   "source": [
    "import pandas as pd\n",
    "import os\n",
    "import requests\n",
    "import unidecode\n",
    "import re"
   ]
  },
  {
   "cell_type": "markdown",
   "id": "9fa7c3fa-b4af-4a0b-a909-99ff7ddf4edd",
   "metadata": {},
   "source": [
    "# 2. Retrieving Data"
   ]
  },
  {
   "cell_type": "code",
   "execution_count": 3,
   "id": "4d97ad69-1906-484e-8dc6-928055f8eec7",
   "metadata": {},
   "outputs": [],
   "source": [
    "bancos_df = pd.read_csv(os.path.join(os.getcwd(), \"layers/raw\", \"bancos.csv\"), sep=\";\")"
   ]
  },
  {
   "cell_type": "code",
   "execution_count": 4,
   "id": "ed625291-3c64-4a03-a6e5-8b58c86d74a5",
   "metadata": {},
   "outputs": [],
   "source": [
    "cnpj_list = bancos_df['CNPJ IF'].replace(' ', None).dropna().drop_duplicates().tolist()"
   ]
  },
  {
   "cell_type": "code",
   "execution_count": 8,
   "id": "3d54eb9e-f278-4eda-802a-69dcae7bf58c",
   "metadata": {},
   "outputs": [
    {
     "name": "stdout",
     "output_type": "stream",
     "text": [
      "113\n",
      "Program finished in 8.876075234031305 seconds\n"
     ]
    }
   ],
   "source": [
    "from multiprocessing import Process, Manager\n",
    "import time\n",
    "\n",
    "start_time = time.perf_counter()\n",
    "\n",
    "def get_lista_tarifa(cnpj, raw_data_list, endpoint):\n",
    "    result = requests.get(endpoint)\n",
    "    try:\n",
    "        if result.status_code == 200:\n",
    "            json_result = result.json()\n",
    "            json_result['cnpj'] = cnpj\n",
    "            raw_data_list.append(json_result)\n",
    "            time.sleep(1)\n",
    "        else:\n",
    "            raise Exception\n",
    "    except Exception:\n",
    "        raise Exception\n",
    "\n",
    "\n",
    "url_1 = \"https://olinda.bcb.gov.br/olinda/servico/Informes_ListaTarifasPorInstituicaoFinanceira/versao/v1/odata/ListaTarifasPorInstituicaoFinanceira(PessoaFisicaOuJuridica=@PessoaFisicaOuJuridica,CNPJ=@CNPJ)?@PessoaFisicaOuJuridica='J'&@CNPJ='\"\n",
    "url_2 = \"'&$top=100&$format=json&$select=CodigoServico,Servico,Unidade,DataVigencia,ValorMaximo,TipoValor,Periodicidade\"\n",
    "manager = Manager()\n",
    "raw_data = manager.list()\n",
    "processes = []\n",
    "for cnpj in cnpj_list:\n",
    "    endpoint = f\"{url_1}{cnpj}{url_2}\"\n",
    "    t = Process(target=get_lista_tarifa, args=(cnpj, raw_data, endpoint))\n",
    "    t.start()\n",
    "    processes.append(t)\n",
    "for process in processes:\n",
    "    process.join()\n",
    "finish_time = time.perf_counter()\n",
    "print(len(raw_data))\n",
    "print(f\"Program finished in {finish_time-start_time} seconds\")"
   ]
  },
  {
   "cell_type": "code",
   "execution_count": 9,
   "id": "5ac372ff-9a42-4d60-b02d-cc2c4637321f",
   "metadata": {},
   "outputs": [],
   "source": [
    "lista_tarifas_df = pd.json_normalize(list(raw_data), 'value', ['@odata.context','cnpj'])"
   ]
  },
  {
   "cell_type": "markdown",
   "id": "aafb6ed4-7d3f-4d33-bac1-f320a50250d2",
   "metadata": {},
   "source": [
    "# 3. Transforming Data"
   ]
  },
  {
   "cell_type": "code",
   "execution_count": 10,
   "id": "f904ca78-d177-434e-94d0-b5cce0610cc1",
   "metadata": {},
   "outputs": [
    {
     "data": {
      "text/plain": [
       "index                                                int64\n",
       "Ano                                                  int64\n",
       "Trimestre                                           object\n",
       "Categoria                                           object\n",
       "Tipo                                                object\n",
       "CNPJ IF                                             object\n",
       "Instituição financeira                              object\n",
       "Índice                                              object\n",
       "Quantidade de reclamações reguladas procedentes      int64\n",
       "Quantidade de reclamações reguladas - outras         int64\n",
       "Quantidade de reclamações não reguladas              int64\n",
       "Quantidade total de reclamações                      int64\n",
       "Quantidade total de clientes  CCS e SCR            object\n",
       "Quantidade de clientes  CCS                        object\n",
       "Quantidade de clientes  SCR                        object\n",
       "Unnamed: 14                                        float64\n",
       "dtype: object"
      ]
     },
     "execution_count": 10,
     "metadata": {},
     "output_type": "execute_result"
    }
   ],
   "source": [
    "bancos_df.dtypes"
   ]
  },
  {
   "cell_type": "code",
   "execution_count": 11,
   "id": "51c04453-6853-4a96-bff5-62daf2f43fad",
   "metadata": {},
   "outputs": [],
   "source": [
    "#bancos_df\n",
    "# Normalizing column names\n",
    "bancos_df = pd.read_csv(os.path.join(os.getcwd(), \"layers/raw\", \"bancos.csv\"), sep=\";\")\n",
    "bancos_df.drop(\"Unnamed: 14\", axis=1, inplace=True)\n",
    "bancos_df.drop(\"index\", axis=1, inplace=True)\n",
    "\n",
    "col_list = bancos_df.columns.tolist()\n",
    "new_cols = {}\n",
    "for col in col_list:\n",
    "    new_cols[col] = unidecode.unidecode(col.lower().replace(\"\\x96\",\"\").replace('-', '').replace('  ','_').replace(' ', \"_\")).lower()\n",
    "bancos_df.rename(columns=new_cols,inplace=True)\n",
    "\n",
    "def normalize_indice(value):\n",
    "    if value == ' ':\n",
    "        return None\n",
    "    else:\n",
    "        return float(value.replace('.','').replace(',','.'))\n",
    "\n",
    "def normalize_to_int(value):\n",
    "    if value == ' ':\n",
    "        return 0\n",
    "    else:\n",
    "        return int(value)\n",
    "\n",
    "bancos_df['indice'] = bancos_df.indice.apply(normalize_indice)\n",
    "bancos_df['quantidade_total_de_clientes_ccs_e_scr'] =  bancos_df.quantidade_total_de_clientes_ccs_e_scr.apply(normalize_to_int)\n",
    "bancos_df['quantidade_de_clientes_ccs'] =  bancos_df.quantidade_de_clientes_ccs.apply(normalize_to_int)\n",
    "bancos_df['quantidade_de_clientes_scr'] =  bancos_df.quantidade_de_clientes_scr.apply(normalize_to_int)\n",
    "bancos_df['categoria'] = bancos_df.categoria.apply(lambda x: x.lower())\n",
    "bancos_df['tipo'] = bancos_df.tipo.apply(lambda x: x.lower())\n",
    "bancos_df['instituicao_financeira'] = bancos_df.instituicao_financeira.apply(lambda x: x.lower())"
   ]
  },
  {
   "cell_type": "code",
   "execution_count": 12,
   "id": "9bdec2a8-3a96-40cd-95fe-35c7a0a4cd3c",
   "metadata": {},
   "outputs": [
    {
     "data": {
      "text/plain": [
       "ano                                                  int64\n",
       "trimestre                                           object\n",
       "categoria                                           object\n",
       "tipo                                                object\n",
       "cnpj_if                                             object\n",
       "instituicao_financeira                              object\n",
       "indice                                             float64\n",
       "quantidade_de_reclamacoes_reguladas_procedentes      int64\n",
       "quantidade_de_reclamacoes_reguladas_outras           int64\n",
       "quantidade_de_reclamacoes_nao_reguladas              int64\n",
       "quantidade_total_de_reclamacoes                      int64\n",
       "quantidade_total_de_clientes_ccs_e_scr               int64\n",
       "quantidade_de_clientes_ccs                           int64\n",
       "quantidade_de_clientes_scr                           int64\n",
       "dtype: object"
      ]
     },
     "execution_count": 12,
     "metadata": {},
     "output_type": "execute_result"
    }
   ],
   "source": [
    "bancos_df.dtypes"
   ]
  },
  {
   "cell_type": "code",
   "execution_count": 13,
   "id": "7f8a0a0f-fda4-4522-a307-512e54c3dc43",
   "metadata": {},
   "outputs": [
    {
     "data": {
      "text/plain": [
       "CodigoServico      object\n",
       "Servico            object\n",
       "Unidade            object\n",
       "DataVigencia       object\n",
       "ValorMaximo       float64\n",
       "TipoValor          object\n",
       "Periodicidade      object\n",
       "@odata.context     object\n",
       "cnpj               object\n",
       "dtype: object"
      ]
     },
     "execution_count": 13,
     "metadata": {},
     "output_type": "execute_result"
    }
   ],
   "source": [
    "lista_tarifas_df.dtypes"
   ]
  },
  {
   "cell_type": "code",
   "execution_count": 14,
   "id": "884d0ea9-21c9-4089-939f-a52646cad30b",
   "metadata": {},
   "outputs": [],
   "source": [
    "#lista_tarifas_df\n",
    "# Normalizing column names\n",
    "def camel_case_split(identifier):\n",
    "    matches = re.finditer('.+?(?:(?<=[a-z])(?=[A-Z])|(?<=[A-Z])(?=[A-Z][a-z])|$)', identifier)\n",
    "    return '_'.join([m.group(0) for m in matches]).lower()\n",
    "\n",
    "lista_tarifas_df = pd.json_normalize(list(raw_data), 'value', ['@odata.context','cnpj'])\n",
    "lista_tarifas_df.drop(columns=[\"@odata.context\"], inplace=True)\n",
    "col_list = lista_tarifas_df.columns.tolist()\n",
    "\n",
    "new_cols = {}\n",
    "for col in col_list:\n",
    "    new_cols[col] = unidecode.unidecode(camel_case_split(col))\n",
    "lista_tarifas_df.rename(columns=new_cols,inplace=True)\n",
    "lista_tarifas_df['servico'] = lista_tarifas_df.servico.apply(lambda x: x.lower())\n",
    "lista_tarifas_df['unidade'] = lista_tarifas_df.unidade.apply(lambda x: unidecode.unidecode(x.lower()))\n",
    "lista_tarifas_df['data_vigencia'] = pd.to_datetime(lista_tarifas_df.data_vigencia)\n",
    "lista_tarifas_df['tipo_valor'] = lista_tarifas_df.tipo_valor.apply(lambda x: x.lower())\n",
    "lista_tarifas_df['periodicidade'] = lista_tarifas_df.periodicidade.apply(lambda x: x.lower())"
   ]
  },
  {
   "cell_type": "code",
   "execution_count": 15,
   "id": "e7d705f4-64db-4c9e-9a37-9b2b59994602",
   "metadata": {},
   "outputs": [
    {
     "data": {
      "text/plain": [
       "codigo_servico            object\n",
       "servico                   object\n",
       "unidade                   object\n",
       "data_vigencia     datetime64[ns]\n",
       "valor_maximo             float64\n",
       "tipo_valor                object\n",
       "periodicidade             object\n",
       "cnpj                      object\n",
       "dtype: object"
      ]
     },
     "execution_count": 15,
     "metadata": {},
     "output_type": "execute_result"
    }
   ],
   "source": [
    "lista_tarifas_df.dtypes"
   ]
  },
  {
   "cell_type": "markdown",
   "id": "28439d2a-f3ef-42e0-a69b-cd9e52f38554",
   "metadata": {},
   "source": [
    "# 4. Uploading Data"
   ]
  },
  {
   "cell_type": "code",
   "execution_count": 31,
   "id": "7e96d36d-8649-463e-ba60-31fa97e43f5f",
   "metadata": {},
   "outputs": [],
   "source": [
    "import logging\n",
    "from sqlalchemy import create_engine\n",
    "\n",
    "class DatabaseManager:\n",
    "\n",
    "    def __init__(self, database=\"analytics\", user=\"admin\", passwd=\"admin\", host=\"pg_analytics\"):\n",
    "        conn_string = f'postgresql://{user}:{passwd}@{host}/{database}'\n",
    "        self.__alchemy_conn = create_engine(conn_string).connect()\n",
    "        self.__alchemy_conn.autocommit = True\n",
    "\n",
    "    def create_table_with_pandas_df(self, df, table_name, schema_name='public'):\n",
    "        logging.info(f\"Creating table: {table_name}\")\n",
    "        df.to_sql(table_name, con=self.__alchemy_conn, schema=schema_name, if_exists='replace', index=True)\n",
    "\n",
    "    def __execute_query(self, query):\n",
    "        return self.__alchemy_conn.execute(query)\n",
    "    \n",
    "    def create_schema(self, schema_name):\n",
    "        self.__execute_query(f\"CREATE SCHEMA IF NOT EXISTS {schema_name}\")\n",
    "        \n",
    "    def create_table_as_query(self, table_name, query, schema_name='public', drop_on_create=False):\n",
    "        if drop_on_create:\n",
    "            self.drop_table(table_name=table_name, schema_name=schema_name)\n",
    "        self.__execute_query(f\"CREATE TABLE IF NOT EXISTS {schema_name}.{table_name} AS {query}\")\n",
    "    \n",
    "    def drop_table(self, table_name, schema_name='public'):\n",
    "        self.__execute_query(f\"DROP TABLE IF EXISTS {schema_name}.{table_name}\")    "
   ]
  },
  {
   "cell_type": "code",
   "execution_count": 32,
   "id": "913133d9-bdc3-4b2b-9cca-4db6250ff141",
   "metadata": {},
   "outputs": [],
   "source": [
    "db_manager = DatabaseManager()\n",
    "db_manager.create_schema(\"trusted\")"
   ]
  },
  {
   "cell_type": "code",
   "execution_count": 18,
   "id": "1b48efb4-ec36-4f23-9b8d-b69218f6d084",
   "metadata": {},
   "outputs": [],
   "source": [
    "db_manager.create_table_with_pandas_df(bancos_df, 'bancos', 'trusted')\n",
    "db_manager.create_table_with_pandas_df(lista_tarifas_df, 'lista_tarifas', 'trusted')"
   ]
  },
  {
   "cell_type": "markdown",
   "id": "9ded3977-526f-4051-9144-a4a549ca68fe",
   "metadata": {},
   "source": [
    "# Generating Star Schema"
   ]
  },
  {
   "cell_type": "code",
   "execution_count": 20,
   "id": "72f1ea32-9ea9-47c3-baf1-acbd8f73c3d7",
   "metadata": {},
   "outputs": [],
   "source": [
    "db_manager.create_schema('star_schema')\n",
    "\n",
    "db_manager.create_table_as_query(\n",
    "    schema_name=\"star_schema\",\n",
    "    table_name=\"dim_categoria\",\n",
    "    drop_on_create=True,\n",
    "    query=\"SELECT DISTINCT md5(categoria) as categoria_id, categoria  FROM trusted.bancos;\"\n",
    ")\n",
    "\n",
    "db_manager.create_table_as_query(\n",
    "    schema_name=\"star_schema\",\n",
    "    table_name=\"dim_tipo\",\n",
    "    drop_on_create=True,\n",
    "    query=\"SELECT DISTINCT md5(tipo) as tipo_id, tipo  FROM trusted.bancos;\"\n",
    ")\n",
    "\n",
    "db_manager.create_table_as_query(\n",
    "    schema_name=\"star_schema\",\n",
    "    table_name=\"dim_instituicao_financeira\",\n",
    "    drop_on_create=True,\n",
    "    query=\"SELECT DISTINCT md5(CONCAT(cnpj_if, instituicao_financeira)) as instituicao_financeira_id, cnpj_if, instituicao_financeira, indice  FROM trusted.bancos;\"\n",
    ")\n",
    "\n",
    "db_manager.create_table_as_query(\n",
    "    schema_name=\"star_schema\",\n",
    "    table_name=\"dim_data\",\n",
    "    drop_on_create=True,\n",
    "    query=\"SELECT DISTINCT md5(CONCAT(ano, trimestre)) as data_id, ano, trimestre FROM trusted.bancos;\"\n",
    ")\n",
    "\n",
    "\n",
    "db_manager.create_table_as_query(\n",
    "    schema_name=\"star_schema\",\n",
    "    table_name=\"fact_bancos_tarifas\",\n",
    "    drop_on_create=True,\n",
    "    query=\"\"\"\n",
    "    SELECT\n",
    "        bar.index,\n",
    "        md5(CONCAT(bar.ano, bar.trimestre)) as data_id,\n",
    "        md5(CONCAT(bar.cnpj_if, bar.instituicao_financeira)) as instituicao_financeira_id,\n",
    "        md5(bar.categoria) as categoria,\n",
    "        md5(bar.tipo) as tipo,\n",
    "        bar.quantidade_de_reclamacoes_reguladas_procedentes as quantidade_de_reclamacoes_reguladas_procedentes,\n",
    "        bar.quantidade_de_reclamacoes_reguladas_outras as qtde_reclamacoes_reguladas_outras,\n",
    "        bar.quantidade_de_reclamacoes_nao_reguladas as qtde_de_reclamacoes_nao_reguladas,\n",
    "        bar.quantidade_total_de_reclamacoes as  qtde_total_reclamacoes,\n",
    "        bar.quantidade_total_de_clientes_ccs_e_scr as qtde_total_clientes_spa_ccs_e_scr,\n",
    "        bar.quantidade_de_clientes_ccs as qtde_clientes_spa_ccs,\n",
    "        bar.quantidade_de_clientes_scr as qtde_clientes_spa_scr,\n",
    "        coalesce(foo.total_servicos, 0) as total_servicos,\n",
    "        coalesce(foo.total_cobrancas_type, 0) as total_cobrancas_type,\n",
    "        coalesce(foo.total_taxas_pagas, 0) as total_taxas_pagas,\n",
    "        coalesce(foo.total_taxas_gratuitas, 0) as total_taxas_gratuitas,\n",
    "        coalesce(foo.valor_maximo_taxa_real, 0) as valor_maximo_taxa_real,\n",
    "        coalesce(foo.valor_maximo_taxa_percentual, 0) as valor_maximo_taxa_percentual\n",
    "    FROM trusted.bancos as bar\n",
    "             LEFT JOIN\n",
    "                 (SELECT\n",
    "                      cnpj,\n",
    "                      COUNT(DISTINCT servico) as total_servicos,\n",
    "                      COUNT(DISTINCT periodicidade) as total_cobrancas_type,\n",
    "                      COUNT(DISTINCT servico) - COUNT(DISTINCT CASE WHEN valor_maximo::decimal = 0 THEN servico ELSE NULL END) as total_taxas_pagas,\n",
    "                      COUNT(DISTINCT CASE WHEN valor_maximo::decimal = 0 THEN servico ELSE NULL END) as total_taxas_gratuitas,\n",
    "                      MAX(CASE WHEN Tipo_valor = 'Real' THEN valor_maximo::decimal ELSE 0 END) as valor_maximo_taxa_real,\n",
    "                      MAX(CASE WHEN Tipo_valor = 'Percentual' THEN valor_maximo::decimal ELSE 0 END) as valor_maximo_taxa_percentual\n",
    "                  FROM trusted.lista_tarifas\n",
    "                  GROUP BY 1) as foo ON foo.cnpj = bar.cnpj_if\n",
    "    \"\"\"\n",
    ")"
   ]
  }
 ],
 "metadata": {
  "kernelspec": {
   "display_name": "Python 3 (ipykernel)",
   "language": "python",
   "name": "python3"
  },
  "language_info": {
   "codemirror_mode": {
    "name": "ipython",
    "version": 3
   },
   "file_extension": ".py",
   "mimetype": "text/x-python",
   "name": "python",
   "nbconvert_exporter": "python",
   "pygments_lexer": "ipython3",
   "version": "3.10.5"
  }
 },
 "nbformat": 4,
 "nbformat_minor": 5
}