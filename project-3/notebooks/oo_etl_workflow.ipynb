{
 "cells": [
  {
   "cell_type": "markdown",
   "id": "33f14bdb-8112-4ca8-b250-4562d47bb3d1",
   "metadata": {},
   "source": [
    "# ETL Workflow"
   ]
  },
  {
   "cell_type": "code",
   "execution_count": 2,
   "id": "55ed7397-2711-4c0f-988a-a0516962c011",
   "metadata": {},
   "outputs": [
    {
     "name": "stdout",
     "output_type": "stream",
     "text": [
      "Importing libs\n"
     ]
    }
   ],
   "source": [
    "# GET /star_schema\n",
    "print(\"Importing libs\")"
   ]
  },
  {
   "cell_type": "code",
   "execution_count": 3,
   "id": "531fc3f4-ed51-4a0f-b495-55e799f83462",
   "metadata": {},
   "outputs": [],
   "source": [
    "# GET /star_schema\n",
    "from packages.business_logic.star_schema_etl import StarSchemaETL"
   ]
  },
  {
   "cell_type": "code",
   "execution_count": 4,
   "id": "f03b03bd-fc4d-4812-a508-5f31e7b22aa9",
   "metadata": {},
   "outputs": [
    {
     "name": "stdout",
     "output_type": "stream",
     "text": [
      "Executing StarSchemaETL\n"
     ]
    }
   ],
   "source": [
    "# GET /star_schema\n",
    "print(\"Executing StarSchemaETL\")"
   ]
  },
  {
   "cell_type": "code",
   "execution_count": 5,
   "id": "57ede138-089c-4c7d-83ef-d01c03870442",
   "metadata": {},
   "outputs": [
    {
     "name": "stdout",
     "output_type": "stream",
     "text": [
      "[2022-07-24 19:35:33][star_schema_etl - create_schemas at line 15][INFO]: Creating trusted schema\n",
      "[2022-07-24 19:35:33][star_schema_etl - create_schemas at line 17][INFO]: Creating refined schema\n",
      "[2022-07-24 19:35:33][etl_workflow_manager - extract at line 18][INFO]: Starting Extraction process\n",
      "[2022-07-24 19:35:33][bancos_extractor - get_data at line 54][INFO]: Report retrieved in 0.41410354800001414 seconds\n",
      "[2022-07-24 19:35:33][etl_workflow_manager - extract at line 20][INFO]: Writing extract result to raw layer\n",
      "[2022-07-24 19:35:33][loader - write_to_filesystem at line 23][INFO]: Writing file to /home/jovyan/layers/raw/bancos.csv\n",
      "[2022-07-24 19:35:33][loader - write_to_filesystem at line 25][INFO]: File successfully saved.\n",
      "[2022-07-24 19:35:33][etl_workflow_manager - transform at line 25][INFO]: Starting Transformation process\n",
      "[2022-07-24 19:35:33][bancos_transformer - apply_transformation at line 37][INFO]: Dropping not required columns\n",
      "[2022-07-24 19:35:33][bancos_transformer - apply_transformation at line 39][INFO]: Normalizing columns names\n",
      "[2022-07-24 19:35:33][etl_workflow_manager - transform at line 27][INFO]: Writing Transformation result to trusted layer\n",
      "[2022-07-24 19:35:33][loader - write_to_filesystem at line 23][INFO]: Writing file to /home/jovyan/layers/trusted/bancos.csv\n",
      "[2022-07-24 19:35:33][loader - write_to_filesystem at line 25][INFO]: File successfully saved.\n",
      "[2022-07-24 19:35:33][etl_workflow_manager - load at line 32][INFO]: Writing Transformation result database\n",
      "[2022-07-24 19:35:33][loader - write_to_database at line 35][INFO]: Writing bancos table to trusted schema\n",
      "[2022-07-24 19:35:33][database_manager - create_table_with_pandas_df at line 16][INFO]: Creating table: trusted.bancos\n",
      "[2022-07-24 19:35:33][loader - write_to_database at line 39][INFO]: Table successfully saved.\n",
      "[2022-07-24 19:35:33][etl_workflow_manager - extract at line 18][INFO]: Starting Extraction process\n",
      "[2022-07-24 19:35:40][lista_tarifas_extractor - get_data at line 44][INFO]: Report retrieved in 6.209052549999967 seconds\n",
      "[2022-07-24 19:35:40][etl_workflow_manager - extract at line 20][INFO]: Writing extract result to raw layer\n",
      "[2022-07-24 19:35:40][loader - write_to_filesystem at line 23][INFO]: Writing file to /home/jovyan/layers/raw/lista_tarifas.csv\n",
      "[2022-07-24 19:35:40][loader - write_to_filesystem at line 25][INFO]: File successfully saved.\n",
      "[2022-07-24 19:35:40][etl_workflow_manager - transform at line 25][INFO]: Starting Transformation process\n",
      "[2022-07-24 19:35:40][lista_tarifas_transformer - apply_transformation at line 23][INFO]: Dropping not required columns\n",
      "[2022-07-24 19:35:40][lista_tarifas_transformer - apply_transformation at line 25][INFO]: Normalizing columns names\n",
      "[2022-07-24 19:35:40][etl_workflow_manager - transform at line 27][INFO]: Writing Transformation result to trusted layer\n",
      "[2022-07-24 19:35:40][loader - write_to_filesystem at line 23][INFO]: Writing file to /home/jovyan/layers/trusted/lista_tarifas.csv\n",
      "[2022-07-24 19:35:40][loader - write_to_filesystem at line 25][INFO]: File successfully saved.\n",
      "[2022-07-24 19:35:40][etl_workflow_manager - load at line 32][INFO]: Writing Transformation result database\n",
      "[2022-07-24 19:35:40][loader - write_to_database at line 35][INFO]: Writing lista_tarifas table to trusted schema\n",
      "[2022-07-24 19:35:40][database_manager - create_table_with_pandas_df at line 16][INFO]: Creating table: trusted.lista_tarifas\n",
      "[2022-07-24 19:35:40][loader - write_to_database at line 39][INFO]: Table successfully saved.\n"
     ]
    }
   ],
   "source": [
    "# GET /star_schema\n",
    "StarSchemaETL().execute()"
   ]
  },
  {
   "cell_type": "code",
   "execution_count": 6,
   "id": "fe780331-77f1-48f4-9ae0-9590401d9b18",
   "metadata": {},
   "outputs": [
    {
     "name": "stdout",
     "output_type": "stream",
     "text": [
      "ok\n"
     ]
    }
   ],
   "source": [
    "# GET /star_schema\n",
    "print('ok')"
   ]
  },
  {
   "cell_type": "code",
   "execution_count": null,
   "id": "32cb6776-2fd8-49d2-8d3a-ff7066c720e4",
   "metadata": {},
   "outputs": [],
   "source": []
  }
 ],
 "metadata": {
  "kernelspec": {
   "display_name": "Python 3 (ipykernel)",
   "language": "python",
   "name": "python3"
  },
  "language_info": {
   "codemirror_mode": {
    "name": "ipython",
    "version": 3
   },
   "file_extension": ".py",
   "mimetype": "text/x-python",
   "name": "python",
   "nbconvert_exporter": "python",
   "pygments_lexer": "ipython3",
   "version": "3.10.5"
  }
 },
 "nbformat": 4,
 "nbformat_minor": 5
}