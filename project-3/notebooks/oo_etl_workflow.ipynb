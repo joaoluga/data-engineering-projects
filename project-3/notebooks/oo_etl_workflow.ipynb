{
 "cells": [
  {
   "cell_type": "markdown",
   "id": "33f14bdb-8112-4ca8-b250-4562d47bb3d1",
   "metadata": {},
   "source": [
    "# ETL Workflow"
   ]
  },
  {
   "cell_type": "code",
   "execution_count": 1,
   "id": "e0f5b9c3-f559-4e01-bc02-7df4c7090ec8",
   "metadata": {},
   "outputs": [
    {
     "name": "stdout",
     "output_type": "stream",
     "text": [
      "Requirement already satisfied: Unidecode in /opt/conda/lib/python3.10/site-packages (1.3.4)\n",
      "Note: you may need to restart the kernel to use updated packages.\n"
     ]
    }
   ],
   "source": [
    "%pip install Unidecode"
   ]
  },
  {
   "cell_type": "code",
   "execution_count": 6,
   "id": "531fc3f4-ed51-4a0f-b495-55e799f83462",
   "metadata": {},
   "outputs": [],
   "source": [
    "from packages.business_logic.star_schema_etl import StarSchemaETL\n",
    "from packages.utils.database_manager import DatabaseManager"
   ]
  },
  {
   "cell_type": "code",
   "execution_count": 3,
   "id": "f03b03bd-fc4d-4812-a508-5f31e7b22aa9",
   "metadata": {},
   "outputs": [
    {
     "name": "stdout",
     "output_type": "stream",
     "text": [
      "[2022-07-20 13:46:13][star_schema_etl - create_schemas at line 19][INFO]: Creating trusted schema\n",
      "[2022-07-20 13:46:13][star_schema_etl - create_schemas at line 21][INFO]: Creating refined schema\n",
      "[2022-07-20 13:46:13][star_schema_etl - execute at line 26][INFO]: Extracting bancos data\n",
      "[2022-07-20 13:46:14][bancos_extractor - get_data at line 50][INFO]: Report retrieved in 0.9721169399563223 seconds\n",
      "[2022-07-20 13:46:14][etl_base - write_to_filesystem at line 38][INFO]: f: /home/jovyan/layers\n",
      "[2022-07-20 13:46:14][etl_base - write_to_filesystem at line 39][INFO]: os: /home/jovyan\n",
      "[2022-07-20 13:46:14][etl_base - write_to_filesystem at line 41][INFO]: Writing file to /home/jovyan/layers/raw/bancos.csv\n",
      "[2022-07-20 13:46:14][etl_base - write_to_filesystem at line 43][INFO]: File successfully saved.\n",
      "[2022-07-20 13:46:14][star_schema_etl - execute at line 28][INFO]: Transforming bancos data\n",
      "[2022-07-20 13:46:14][etl_base - read_df_from_filesystem at line 34][INFO]: Reading file from: /home/jovyan/layers/raw/bancos.csv\n",
      "[2022-07-20 13:46:14][bancos_transformer - apply_transformation at line 37][INFO]: Dropping not required columns\n",
      "[2022-07-20 13:46:14][bancos_transformer - apply_transformation at line 39][INFO]: Normalizing columns names\n",
      "[2022-07-20 13:46:14][etl_base - write_to_filesystem at line 38][INFO]: f: /home/jovyan/layers\n",
      "[2022-07-20 13:46:14][etl_base - write_to_filesystem at line 39][INFO]: os: /home/jovyan\n",
      "[2022-07-20 13:46:14][etl_base - write_to_filesystem at line 41][INFO]: Writing file to /home/jovyan/layers/trusted/bancos.csv\n",
      "[2022-07-20 13:46:14][etl_base - write_to_filesystem at line 43][INFO]: File successfully saved.\n",
      "[2022-07-20 13:46:14][star_schema_etl - execute at line 30][INFO]: Loading bancos data to database\n",
      "[2022-07-20 13:46:14][etl_base - read_df_from_filesystem at line 34][INFO]: Reading file from: /home/jovyan/layers/trusted/bancos.csv\n",
      "[2022-07-20 13:46:14][etl_base - write_to_database at line 51][INFO]: Writing bancos table to trusted schema\n",
      "[2022-07-20 13:46:14][database_manager - create_table_with_pandas_df at line 16][INFO]: Creating table: trusted.bancos\n",
      "[2022-07-20 13:46:15][etl_base - write_to_database at line 57][INFO]: Table successfully saved.\n",
      "[2022-07-20 13:46:15][star_schema_etl - execute at line 32][INFO]: Extracting Lista Tarifas data\n",
      "[2022-07-20 13:46:15][etl_base - read_df_from_filesystem at line 34][INFO]: Reading file from: /home/jovyan/layers/trusted/bancos.csv\n",
      "[2022-07-20 13:46:18][lista_tarifas_extractor - get_data at line 43][INFO]: Report retrieved in 2.9882400818169117 seconds\n",
      "[2022-07-20 13:46:18][etl_base - write_to_filesystem at line 38][INFO]: f: /home/jovyan/layers\n",
      "[2022-07-20 13:46:18][etl_base - write_to_filesystem at line 39][INFO]: os: /home/jovyan\n",
      "[2022-07-20 13:46:18][etl_base - write_to_filesystem at line 41][INFO]: Writing file to /home/jovyan/layers/raw/lista_tarifas.csv\n",
      "[2022-07-20 13:46:18][etl_base - write_to_filesystem at line 43][INFO]: File successfully saved.\n",
      "[2022-07-20 13:46:18][star_schema_etl - execute at line 34][INFO]: Transforming Lista Tarifas data\n",
      "[2022-07-20 13:46:18][etl_base - read_df_from_filesystem at line 34][INFO]: Reading file from: /home/jovyan/layers/raw/lista_tarifas.csv\n",
      "[2022-07-20 13:46:18][lista_tarifas_transformer - apply_transformation at line 26][INFO]: Dropping not required columns\n",
      "[2022-07-20 13:46:18][lista_tarifas_transformer - apply_transformation at line 28][INFO]: Normalizing columns names\n",
      "[2022-07-20 13:46:18][etl_base - write_to_filesystem at line 38][INFO]: f: /home/jovyan/layers\n",
      "[2022-07-20 13:46:18][etl_base - write_to_filesystem at line 39][INFO]: os: /home/jovyan\n",
      "[2022-07-20 13:46:18][etl_base - write_to_filesystem at line 41][INFO]: Writing file to /home/jovyan/layers/trusted/lista_tarifas.csv\n",
      "[2022-07-20 13:46:18][etl_base - write_to_filesystem at line 43][INFO]: File successfully saved.\n",
      "[2022-07-20 13:46:18][star_schema_etl - execute at line 36][INFO]: Loading Lista Tarifas data to database\n",
      "[2022-07-20 13:46:18][etl_base - read_df_from_filesystem at line 34][INFO]: Reading file from: /home/jovyan/layers/trusted/lista_tarifas.csv\n",
      "[2022-07-20 13:46:18][etl_base - write_to_database at line 51][INFO]: Writing lista_tarifas table to trusted schema\n",
      "[2022-07-20 13:46:18][database_manager - create_table_with_pandas_df at line 16][INFO]: Creating table: trusted.lista_tarifas\n",
      "[2022-07-20 13:46:18][etl_base - write_to_database at line 57][INFO]: Table successfully saved.\n",
      "[2022-07-20 13:46:18][star_schema_etl - execute at line 38][INFO]: Creating Star Schema\n",
      "[2022-07-20 13:46:18][bancos_tarifas - execute at line 91][INFO]: Starting dimensions creation\n",
      "[2022-07-20 13:46:18][bancos_tarifas - generate_dimensions at line 12][INFO]: Creating refined.dim_categoria\n",
      "[2022-07-20 13:46:18][bancos_tarifas - generate_dimensions at line 20][INFO]: Creating refined.dim_tipo\n",
      "[2022-07-20 13:46:18][bancos_tarifas - generate_dimensions at line 28][INFO]: Creating refined.dim_instituicao_financeira\n",
      "[2022-07-20 13:46:18][bancos_tarifas - generate_dimensions at line 37][INFO]: Creating refined.dim_data\n",
      "[2022-07-20 13:46:18][bancos_tarifas - execute at line 93][INFO]: Dimensions created!\n",
      "[2022-07-20 13:46:18][bancos_tarifas - execute at line 94][INFO]: Starting fact creation\n",
      "[2022-07-20 13:46:18][bancos_tarifas - generate_fact at line 46][INFO]: Creating refined.fact_bancos_tarifas\n",
      "[2022-07-20 13:46:18][bancos_tarifas - execute at line 96][INFO]: Fact created!\n"
     ]
    }
   ],
   "source": [
    "StarSchemaETL().execute()"
   ]
  },
  {
   "cell_type": "code",
   "execution_count": null,
   "id": "62b447d0-f4f8-464e-8d07-b6b46788cd3e",
   "metadata": {},
   "outputs": [],
   "source": []
  }
 ],
 "metadata": {
  "kernelspec": {
   "display_name": "Python 3 (ipykernel)",
   "language": "python",
   "name": "python3"
  },
  "language_info": {
   "codemirror_mode": {
    "name": "ipython",
    "version": 3
   },
   "file_extension": ".py",
   "mimetype": "text/x-python",
   "name": "python",
   "nbconvert_exporter": "python",
   "pygments_lexer": "ipython3",
   "version": "3.10.5"
  }
 },
 "nbformat": 4,
 "nbformat_minor": 5
}